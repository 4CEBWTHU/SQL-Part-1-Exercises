{
    "metadata": {
        "kernelspec": {
            "name": "SQL",
            "display_name": "SQL",
            "language": "sql"
        },
        "language_info": {
            "name": "sql",
            "version": ""
        },
        "extensions": {
            "azuredatastudio": {
                "version": 1,
                "views": []
            }
        }
    },
    "nbformat_minor": 2,
    "nbformat": 4,
    "cells": [
        {
            "cell_type": "markdown",
            "source": [
                "# TESTING THE BOOKS TABLE ONLY FOR RIGHT NOW"
            ],
            "metadata": {
                "azdata_cell_guid": "b9034d8a-b631-48bf-a895-1012a6ffa784"
            }
        },
        {
            "cell_type": "markdown",
            "source": [
                "### EDA of my data\n",
                "\n",
                "- Looking at the top ~100 values of each table to explore column names, data types, etc\n",
                "    - shrunk down my tops/\\* to 2 rows for length of this notebook.\n",
                "- Used this article: https://blog.hubspot.com/marketing/sql-tutorial-introduction"
            ],
            "metadata": {
                "azdata_cell_guid": "d8934ea2-20ad-4a7a-a8c0-a1364579a769"
            },
            "attachments": {}
        },
        {
            "cell_type": "markdown",
            "source": [
                "# Books Table\n",
                "\n",
                "#### Run a TOP 100 for this table, making sure that you select all of the columns.\n",
                "\n",
                "#### Answer the following questions by looking at the table.  We suggest making notes to help you remember.  When we learn about joins, having a few notes about each table help that process a lot.\n",
                "\n",
                "1. Using the [dataset](https://www.kaggle.com/zygmunt/goodbooks-10k%5D), what does each column contain?\n",
                "2. Look at the column titles and explain what each one means (your best inferences and deductions)\n",
                "1. <mark>This took me over 2 hours and I am not 100% happy with my conclusions.</mark>\n",
                "2. <mark>I think we should provide directions about which columns we want them to work with</mark>\n",
                "4. What data type is each column?\n",
                "5. What is the size of this table?"
            ],
            "metadata": {
                "azdata_cell_guid": "6e55eb1c-4a14-4076-90d2-95ed17a6309f"
            },
            "attachments": {}
        },
        {
            "cell_type": "markdown",
            "source": [
                "## SOLUTIONS\n",
                "\n",
                "Question 2:\n",
                "\n",
                "- id= instance of a book (ie: the top 10k books in some order)\n",
                "- book\\_id = the instance of the book in the goodread database\n",
                "    - [https://www.goodreads.com/book/show/3.Harry\\_Potter\\_and\\_the\\_Sorcerer\\_s\\_Stone](https://www.goodreads.com/book/show/3.Harry_Potter_and_the_Sorcerer_s_Stone)\n",
                "- best\\_book\\_id = is the most popular edition for a given work. Generally it's the same as goodreadsbookid, but differs occasionally\n",
                "    - [https://www.goodreads.com/book/show/3.Harry\\_Potter\\_and\\_the\\_Sorcerer\\_s\\_Stone](https://www.goodreads.com/book/show/3.Harry_Potter_and_the_Sorcerer_s_Stone)\n",
                "- work\\_id =  [Work IDs](https://help.goodreads.com/s/article/What-s-a-Work-ID-and-where-can-I-find-it) are unique identification numbers that represent books in the Goodreads catalog.  Work view holds collections of quotes collected by users. For this edition/version.\n",
                "    - [https://www.goodreads.com/work/quotes/4640799-harry-potter-and-the-philosopher-s-stone](https://www.goodreads.com/work/quotes/4640799-harry-potter-and-the-philosopher-s-stone) \n",
                "- books\\_count = is the number of editions for a given work\n",
                "- isbn = International Standard Book Number, or a [book's unique identifier](https://en.wikipedia.org/wiki/International_Standard_Book_Number#How_ISBNs_are_issued)\n",
                "- isbn13 = 13 digit long isbn issued after 2007.  The [GS1](https://en.wikipedia.org/wiki/GS1)  prefix currently is 978 or 979\n",
                "- authors = the first entry is who wrote the book, followed by illustrators, contributors, translators, etc\n",
                "- original\\_publication\\_year = when the book was first published\n",
                "- originial\\_title = the original title the book was given. This could be the title in the book's original language, the title of the book in a series, etc.\n",
                "- title = The title after translating and its location in a series, including series name and the book's position in the series.\n",
                "- language\\_code = what language the book was in when this data was scraped\n",
                "- average\\_rating = On Goodreads, this average is [calculated](https://help.goodreads.com/s/article/As-an-author-how-is-the-average-rating-of-my-books-calculated#:~:text=On%20Goodreads%2C%20this%20average%20is,the%20total%20number%20of%20ratings.) as the sum of all of the author's book ratings divided by the total number of ratings.\n",
                "- ratings\\_count = total number of ratings\n",
                "- work\\_ratings = likes for each quote? or likes for this edition??\n",
                "- work\\_text\\_reviews\\_count = number of text reviews for each book.\n",
                "- ratings\\_1 = number of 1 star reviews\n",
                "- ratings\\_2 = number of 2 star reviews\n",
                "- ratings\\_3 = number of 3 star reviews\n",
                "- ratings\\_4 = number of 4 star reviews\n",
                "- ratings\\_5 = number of 5 star reviews\n",
                "- image\\_url = cover image\n",
                "- small\\_image\\_url = thumbnail image of cover"
            ],
            "metadata": {
                "azdata_cell_guid": "726ac8fe-5fd6-4694-b630-743feccf4c34"
            },
            "attachments": {}
        },
        {
            "cell_type": "code",
            "source": [
                "-- EDA\n",
                "-- Look at your columns\n",
                "-- Select the top 500 rows, make sure you include all rows (hint: use the *)\n",
                "\n",
                "SELECT TOP 2 * FROM BooksDB.dbo.books"
            ],
            "metadata": {
                "azdata_cell_guid": "3210add6-db07-494f-8b52-66aaf5f20f71",
                "tags": []
            },
            "outputs": [
                {
                    "output_type": "display_data",
                    "data": {
                        "text/html": "(2 rows affected)"
                    },
                    "metadata": {}
                },
                {
                    "output_type": "display_data",
                    "data": {
                        "text/html": "Total execution time: 00:00:00.061"
                    },
                    "metadata": {}
                },
                {
                    "output_type": "execute_result",
                    "metadata": {},
                    "execution_count": 33,
                    "data": {
                        "application/vnd.dataresource+json": {
                            "schema": {
                                "fields": [
                                    {
                                        "name": "id"
                                    },
                                    {
                                        "name": "book_id"
                                    },
                                    {
                                        "name": "best_book_id"
                                    },
                                    {
                                        "name": "work_id"
                                    },
                                    {
                                        "name": "books_count"
                                    },
                                    {
                                        "name": "isbn"
                                    },
                                    {
                                        "name": "isbn13"
                                    },
                                    {
                                        "name": "authors"
                                    },
                                    {
                                        "name": "original_publication_year"
                                    },
                                    {
                                        "name": "original_title"
                                    },
                                    {
                                        "name": "title"
                                    },
                                    {
                                        "name": "language_code"
                                    },
                                    {
                                        "name": "average_rating"
                                    },
                                    {
                                        "name": "ratings_count"
                                    },
                                    {
                                        "name": "work_ratings_count"
                                    },
                                    {
                                        "name": "work_text_reviews_count"
                                    },
                                    {
                                        "name": "ratings_1"
                                    },
                                    {
                                        "name": "ratings_2"
                                    },
                                    {
                                        "name": "ratings_3"
                                    },
                                    {
                                        "name": "ratings_4"
                                    },
                                    {
                                        "name": "ratings_5"
                                    },
                                    {
                                        "name": "image_url"
                                    },
                                    {
                                        "name": "small_image_url"
                                    }
                                ]
                            },
                            "data": [
                                {
                                    "0": "1",
                                    "1": "2767052",
                                    "2": "2767052",
                                    "3": "2792775",
                                    "4": "272",
                                    "5": "439023483",
                                    "6": "9780439023480",
                                    "7": "Suzanne Collins",
                                    "8": "2008",
                                    "9": "The Hunger Games",
                                    "10": "The Hunger Games (The Hunger Games, #1)",
                                    "11": "eng",
                                    "12": "4.34",
                                    "13": "4780653",
                                    "14": "4942365",
                                    "15": "155254",
                                    "16": "66715",
                                    "17": "127936",
                                    "18": "560092",
                                    "19": "1481305",
                                    "20": "2706317",
                                    "21": "https://images.gr-assets.com/books/1447303603m/2767052.jpg",
                                    "22": "https://images.gr-assets.com/books/1447303603s/2767052.jpg"
                                },
                                {
                                    "0": "2",
                                    "1": "3",
                                    "2": "3",
                                    "3": "4640799",
                                    "4": "491",
                                    "5": "439554934",
                                    "6": "9780439554930",
                                    "7": "J.K. Rowling, Mary GrandPré",
                                    "8": "1997",
                                    "9": "Harry Potter and the Philosopher's Stone",
                                    "10": "Harry Potter and the Sorcerer's Stone (Harry Potter, #1)",
                                    "11": "eng",
                                    "12": "4.44",
                                    "13": "4602479",
                                    "14": "4800065",
                                    "15": "75867",
                                    "16": "75504",
                                    "17": "101676",
                                    "18": "455024",
                                    "19": "1156318",
                                    "20": "3011543",
                                    "21": "https://images.gr-assets.com/books/1474154022m/3.jpg",
                                    "22": "https://images.gr-assets.com/books/1474154022s/3.jpg"
                                }
                            ]
                        },
                        "text/html": [
                            "<table>",
                            "<tr><th>id</th><th>book_id</th><th>best_book_id</th><th>work_id</th><th>books_count</th><th>isbn</th><th>isbn13</th><th>authors</th><th>original_publication_year</th><th>original_title</th><th>title</th><th>language_code</th><th>average_rating</th><th>ratings_count</th><th>work_ratings_count</th><th>work_text_reviews_count</th><th>ratings_1</th><th>ratings_2</th><th>ratings_3</th><th>ratings_4</th><th>ratings_5</th><th>image_url</th><th>small_image_url</th></tr>",
                            "<tr><td>1</td><td>2767052</td><td>2767052</td><td>2792775</td><td>272</td><td>439023483</td><td>9780439023480</td><td>Suzanne Collins</td><td>2008</td><td>The Hunger Games</td><td>The Hunger Games (The Hunger Games, #1)</td><td>eng</td><td>4.34</td><td>4780653</td><td>4942365</td><td>155254</td><td>66715</td><td>127936</td><td>560092</td><td>1481305</td><td>2706317</td><td>https://images.gr-assets.com/books/1447303603m/2767052.jpg</td><td>https://images.gr-assets.com/books/1447303603s/2767052.jpg</td></tr>",
                            "<tr><td>2</td><td>3</td><td>3</td><td>4640799</td><td>491</td><td>439554934</td><td>9780439554930</td><td>J.K. Rowling, Mary GrandPré</td><td>1997</td><td>Harry Potter and the Philosopher's Stone</td><td>Harry Potter and the Sorcerer's Stone (Harry Potter, #1)</td><td>eng</td><td>4.44</td><td>4602479</td><td>4800065</td><td>75867</td><td>75504</td><td>101676</td><td>455024</td><td>1156318</td><td>3011543</td><td>https://images.gr-assets.com/books/1474154022m/3.jpg</td><td>https://images.gr-assets.com/books/1474154022s/3.jpg</td></tr>",
                            "</table>"
                        ]
                    }
                }
            ],
            "execution_count": 33
        },
        {
            "cell_type": "code",
            "source": [
                "-- Select the first 30 authors, original publications years and original titles from the books table\n",
                "SELECT TOP 2 authors, original_publication_year, original_title FROM BooksDB.dbo.books;\n",
                ""
            ],
            "metadata": {
                "azdata_cell_guid": "8061ffc3-c5ce-4e07-833e-c6bcd293d8b9"
            },
            "outputs": [
                {
                    "output_type": "display_data",
                    "data": {
                        "text/html": "(2 rows affected)"
                    },
                    "metadata": {}
                },
                {
                    "output_type": "display_data",
                    "data": {
                        "text/html": "Total execution time: 00:00:00.052"
                    },
                    "metadata": {}
                },
                {
                    "output_type": "execute_result",
                    "metadata": {},
                    "execution_count": 32,
                    "data": {
                        "application/vnd.dataresource+json": {
                            "schema": {
                                "fields": [
                                    {
                                        "name": "authors"
                                    },
                                    {
                                        "name": "original_publication_year"
                                    },
                                    {
                                        "name": "original_title"
                                    }
                                ]
                            },
                            "data": [
                                {
                                    "0": "Suzanne Collins",
                                    "1": "2008",
                                    "2": "The Hunger Games"
                                },
                                {
                                    "0": "J.K. Rowling, Mary GrandPré",
                                    "1": "1997",
                                    "2": "Harry Potter and the Philosopher's Stone"
                                }
                            ]
                        },
                        "text/html": [
                            "<table>",
                            "<tr><th>authors</th><th>original_publication_year</th><th>original_title</th></tr>",
                            "<tr><td>Suzanne Collins</td><td>2008</td><td>The Hunger Games</td></tr>",
                            "<tr><td>J.K. Rowling, Mary GrandPré</td><td>1997</td><td>Harry Potter and the Philosopher's Stone</td></tr>",
                            "</table>"
                        ]
                    }
                }
            ],
            "execution_count": 32
        },
        {
            "cell_type": "code",
            "source": [
                "-- Select first 100 titles from the books table where the average rating was >= 4.5\n",
                "SELECT TOP 2 title FROM BooksDB.dbo.books\n",
                "    WHERE average_rating >= 4.5;"
            ],
            "metadata": {
                "azdata_cell_guid": "ff18739a-0c69-44c1-a0c3-f3e140b01a4a"
            },
            "outputs": [
                {
                    "output_type": "display_data",
                    "data": {
                        "text/html": "(2 rows affected)"
                    },
                    "metadata": {}
                },
                {
                    "output_type": "display_data",
                    "data": {
                        "text/html": "Total execution time: 00:00:00.059"
                    },
                    "metadata": {}
                },
                {
                    "output_type": "execute_result",
                    "metadata": {},
                    "execution_count": 28,
                    "data": {
                        "application/vnd.dataresource+json": {
                            "schema": {
                                "fields": [
                                    {
                                        "name": "title"
                                    }
                                ]
                            },
                            "data": [
                                {
                                    "0": "Harry Potter and the Prisoner of Azkaban (Harry Potter, #3)"
                                },
                                {
                                    "0": "Harry Potter and the Goblet of Fire (Harry Potter, #4)"
                                }
                            ]
                        },
                        "text/html": [
                            "<table>",
                            "<tr><th>title</th></tr>",
                            "<tr><td>Harry Potter and the Prisoner of Azkaban (Harry Potter, #3)</td></tr>",
                            "<tr><td>Harry Potter and the Goblet of Fire (Harry Potter, #4)</td></tr>",
                            "</table>"
                        ]
                    }
                }
            ],
            "execution_count": 28
        },
        {
            "cell_type": "code",
            "source": [
                "/* Select first all the books from the books table where they were \n",
                "originally published before 1900 and the average rating is above 3.2*/\n",
                "\n",
                "\n",
                "SELECT TOP 2 * FROM BooksDB.dbo.books\n",
                "    WHERE original_publication_year < 1900 AND average_rating > 3.2\n",
                "    -- 378 rows\n",
                ""
            ],
            "metadata": {
                "azdata_cell_guid": "f8f50519-acc7-495b-a523-4332e14813d2"
            },
            "outputs": [
                {
                    "output_type": "display_data",
                    "data": {
                        "text/html": "(2 rows affected)"
                    },
                    "metadata": {}
                },
                {
                    "output_type": "display_data",
                    "data": {
                        "text/html": "Total execution time: 00:00:00.132"
                    },
                    "metadata": {}
                },
                {
                    "output_type": "execute_result",
                    "metadata": {},
                    "execution_count": 29,
                    "data": {
                        "application/vnd.dataresource+json": {
                            "schema": {
                                "fields": [
                                    {
                                        "name": "id"
                                    },
                                    {
                                        "name": "book_id"
                                    },
                                    {
                                        "name": "best_book_id"
                                    },
                                    {
                                        "name": "work_id"
                                    },
                                    {
                                        "name": "books_count"
                                    },
                                    {
                                        "name": "isbn"
                                    },
                                    {
                                        "name": "isbn13"
                                    },
                                    {
                                        "name": "authors"
                                    },
                                    {
                                        "name": "original_publication_year"
                                    },
                                    {
                                        "name": "original_title"
                                    },
                                    {
                                        "name": "title"
                                    },
                                    {
                                        "name": "language_code"
                                    },
                                    {
                                        "name": "average_rating"
                                    },
                                    {
                                        "name": "ratings_count"
                                    },
                                    {
                                        "name": "work_ratings_count"
                                    },
                                    {
                                        "name": "work_text_reviews_count"
                                    },
                                    {
                                        "name": "ratings_1"
                                    },
                                    {
                                        "name": "ratings_2"
                                    },
                                    {
                                        "name": "ratings_3"
                                    },
                                    {
                                        "name": "ratings_4"
                                    },
                                    {
                                        "name": "ratings_5"
                                    },
                                    {
                                        "name": "image_url"
                                    },
                                    {
                                        "name": "small_image_url"
                                    }
                                ]
                            },
                            "data": [
                                {
                                    "0": "10",
                                    "1": "1885",
                                    "2": "1885",
                                    "3": "3060926",
                                    "4": "3455",
                                    "5": "679783261",
                                    "6": "9780679783270",
                                    "7": "Jane Austen",
                                    "8": "1813",
                                    "9": "Pride and Prejudice",
                                    "10": "Pride and Prejudice",
                                    "11": "eng",
                                    "12": "4.24",
                                    "13": "2035490",
                                    "14": "2191465",
                                    "15": "49152",
                                    "16": "54700",
                                    "17": "86485",
                                    "18": "284852",
                                    "19": "609755",
                                    "20": "1155673",
                                    "21": "https://images.gr-assets.com/books/1320399351m/1885.jpg",
                                    "22": "https://images.gr-assets.com/books/1320399351s/1885.jpg"
                                },
                                {
                                    "0": "29",
                                    "1": "18135",
                                    "2": "18135",
                                    "3": "3349450",
                                    "4": "1937",
                                    "5": "743477111",
                                    "6": "9780743477120",
                                    "7": "William Shakespeare, Robert           Jackson",
                                    "8": "1595",
                                    "9": "An Excellent conceited Tragedie of Romeo and Juliet",
                                    "10": "Romeo and Juliet",
                                    "11": "eng",
                                    "12": "3.73",
                                    "13": "1628519",
                                    "14": "1672889",
                                    "15": "14778",
                                    "16": "57980",
                                    "17": "153179",
                                    "18": "452673",
                                    "19": "519822",
                                    "20": "489235",
                                    "21": "https://images.gr-assets.com/books/1327872146m/18135.jpg",
                                    "22": "https://images.gr-assets.com/books/1327872146s/18135.jpg"
                                }
                            ]
                        },
                        "text/html": [
                            "<table>",
                            "<tr><th>id</th><th>book_id</th><th>best_book_id</th><th>work_id</th><th>books_count</th><th>isbn</th><th>isbn13</th><th>authors</th><th>original_publication_year</th><th>original_title</th><th>title</th><th>language_code</th><th>average_rating</th><th>ratings_count</th><th>work_ratings_count</th><th>work_text_reviews_count</th><th>ratings_1</th><th>ratings_2</th><th>ratings_3</th><th>ratings_4</th><th>ratings_5</th><th>image_url</th><th>small_image_url</th></tr>",
                            "<tr><td>10</td><td>1885</td><td>1885</td><td>3060926</td><td>3455</td><td>679783261</td><td>9780679783270</td><td>Jane Austen</td><td>1813</td><td>Pride and Prejudice</td><td>Pride and Prejudice</td><td>eng</td><td>4.24</td><td>2035490</td><td>2191465</td><td>49152</td><td>54700</td><td>86485</td><td>284852</td><td>609755</td><td>1155673</td><td>https://images.gr-assets.com/books/1320399351m/1885.jpg</td><td>https://images.gr-assets.com/books/1320399351s/1885.jpg</td></tr>",
                            "<tr><td>29</td><td>18135</td><td>18135</td><td>3349450</td><td>1937</td><td>743477111</td><td>9780743477120</td><td>William Shakespeare, Robert           Jackson</td><td>1595</td><td>An Excellent conceited Tragedie of Romeo and Juliet</td><td>Romeo and Juliet</td><td>eng</td><td>3.73</td><td>1628519</td><td>1672889</td><td>14778</td><td>57980</td><td>153179</td><td>452673</td><td>519822</td><td>489235</td><td>https://images.gr-assets.com/books/1327872146m/18135.jpg</td><td>https://images.gr-assets.com/books/1327872146s/18135.jpg</td></tr>",
                            "</table>"
                        ]
                    }
                }
            ],
            "execution_count": 29
        },
        {
            "cell_type": "code",
            "source": [
                "-- Select titles and 5 star ratings from the books table where original title = title AND published between 1900-2000\n",
                "SELECT TOP 2 title, ratings_5 FROM BooksDB.dbo.books\n",
                "    WHERE original_title = title AND original_publication_year BETWEEN 1900 AND 2000;\n",
                "    -- 1755 rows"
            ],
            "metadata": {
                "azdata_cell_guid": "bd35851c-8a7a-438c-9043-d833e3ceb835"
            },
            "outputs": [
                {
                    "output_type": "display_data",
                    "data": {
                        "text/html": "(2 rows affected)"
                    },
                    "metadata": {}
                },
                {
                    "output_type": "display_data",
                    "data": {
                        "text/html": "Total execution time: 00:00:00.109"
                    },
                    "metadata": {}
                },
                {
                    "output_type": "execute_result",
                    "metadata": {},
                    "execution_count": 35,
                    "data": {
                        "application/vnd.dataresource+json": {
                            "schema": {
                                "fields": [
                                    {
                                        "name": "title"
                                    },
                                    {
                                        "name": "ratings_5"
                                    }
                                ]
                            },
                            "data": [
                                {
                                    "0": "To Kill a Mockingbird",
                                    "1": "1714267"
                                },
                                {
                                    "0": "The Great Gatsby",
                                    "1": "947718"
                                }
                            ]
                        },
                        "text/html": [
                            "<table>",
                            "<tr><th>title</th><th>ratings_5</th></tr>",
                            "<tr><td>To Kill a Mockingbird</td><td>1714267</td></tr>",
                            "<tr><td>The Great Gatsby</td><td>947718</td></tr>",
                            "</table>"
                        ]
                    }
                }
            ],
            "execution_count": 35
        },
        {
            "cell_type": "code",
            "source": [
                "-- Select original titles from books where authors start with the letters A O B.  \n",
                "-- Order by original title in descending order.\n",
                "\n",
                "SELECT TOP 2 original_title FROM BooksDB.dbo.books\n",
                "    WHERE authors <= 'B'\n",
                "    ORDER BY title DESC;\n",
                "\n",
                "    --797 rows"
            ],
            "metadata": {
                "azdata_cell_guid": "75193b44-a520-4900-8ba3-1a2e8b6b2948"
            },
            "outputs": [
                {
                    "output_type": "display_data",
                    "data": {
                        "text/html": "(2 rows affected)"
                    },
                    "metadata": {}
                },
                {
                    "output_type": "display_data",
                    "data": {
                        "text/html": "Total execution time: 00:00:00.122"
                    },
                    "metadata": {}
                },
                {
                    "output_type": "execute_result",
                    "metadata": {},
                    "execution_count": 40,
                    "data": {
                        "application/vnd.dataresource+json": {
                            "schema": {
                                "fields": [
                                    {
                                        "name": "original_title"
                                    }
                                ]
                            },
                            "data": [
                                {
                                    "0": "NULL"
                                },
                                {
                                    "0": "شيكاجو"
                                }
                            ]
                        },
                        "text/html": [
                            "<table>",
                            "<tr><th>original_title</th></tr>",
                            "<tr><td>NULL</td></tr>",
                            "<tr><td>شيكاجو</td></tr>",
                            "</table>"
                        ]
                    }
                }
            ],
            "execution_count": 40
        },
        {
            "cell_type": "code",
            "source": [
                "-- Select original title where total number of ratings is above 4,000,000. \n",
                "-- Group by original publication year\n",
                "\n",
                "SELECT TOP 2 COUNT(original_title), original_publication_year FROM BooksDB.dbo.books\n",
                "    WHERE ratings_count > 40000 /*AND original_publication_year IS NOT NULL  --BONUS */\n",
                "    GROUP BY original_publication_year;\n",
                "    -- 214 rows (--213 with BONUS)"
            ],
            "metadata": {
                "azdata_cell_guid": "32c36699-ce1c-4b8f-940a-f70132217efe",
                "tags": []
            },
            "outputs": [
                {
                    "output_type": "display_data",
                    "data": {
                        "text/html": "Warning: Null value is eliminated by an aggregate or other SET operation."
                    },
                    "metadata": {}
                },
                {
                    "output_type": "display_data",
                    "data": {
                        "text/html": "(2 rows affected)"
                    },
                    "metadata": {}
                },
                {
                    "output_type": "display_data",
                    "data": {
                        "text/html": "Total execution time: 00:00:00.071"
                    },
                    "metadata": {}
                },
                {
                    "output_type": "execute_result",
                    "metadata": {},
                    "execution_count": 60,
                    "data": {
                        "application/vnd.dataresource+json": {
                            "schema": {
                                "fields": [
                                    {
                                        "name": "(No column name)"
                                    },
                                    {
                                        "name": "original_publication_year"
                                    }
                                ]
                            },
                            "data": [
                                {
                                    "0": "1",
                                    "1": "NULL"
                                },
                                {
                                    "0": "1",
                                    "1": "-1750"
                                }
                            ]
                        },
                        "text/html": [
                            "<table>",
                            "<tr><th>(No column name)</th><th>original_publication_year</th></tr>",
                            "<tr><td>1</td><td>NULL</td></tr>",
                            "<tr><td>1</td><td>-1750</td></tr>",
                            "</table>"
                        ]
                    }
                }
            ],
            "execution_count": 60
        },
        {
            "cell_type": "markdown",
            "source": [
                "# OTHER TABLES\n",
                "\n",
                "- thoughts for other tables: have them do 2-5 queries for each of the other tables using their new syntax."
            ],
            "metadata": {
                "azdata_cell_guid": "62f3ed11-8de7-40f0-9773-6b0c8d21f745"
            }
        },
        {
            "cell_type": "markdown",
            "source": [
                "# Book Tag Table\n",
                "\n",
                "#### Run a TOP 100 for this table, making sure that you select all of the columns.     \n",
                "\n",
                "#### Answer the following questions by looking at the table:\n",
                "\n",
                "1. What does each column contain?\n",
                "2. Look at the column titles and explain what each one means (your best inferences and deductions)\n",
                "3. What data type is each column?\n",
                "4. What is the size of this table?"
            ],
            "metadata": {
                "azdata_cell_guid": "4f3737df-528c-4d39-aa11-fcad014e94e3"
            }
        },
        {
            "cell_type": "code",
            "source": [
                "/* SELECT TOP 5 * FROM BooksDB.dbo.book_tags */"
            ],
            "metadata": {
                "azdata_cell_guid": "e3a40058-ef2b-44da-a104-f3ca6b9b4052"
            },
            "outputs": [
                {
                    "output_type": "display_data",
                    "data": {
                        "text/html": "Commands completed successfully."
                    },
                    "metadata": {}
                },
                {
                    "output_type": "display_data",
                    "data": {
                        "text/html": "Total execution time: 00:00:00.048"
                    },
                    "metadata": {}
                }
            ],
            "execution_count": 31
        }
    ]
}