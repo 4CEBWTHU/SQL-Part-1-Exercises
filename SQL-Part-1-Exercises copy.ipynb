{
    "metadata": {
        "kernelspec": {
            "name": "SQL",
            "display_name": "SQL",
            "language": "sql"
        },
        "language_info": {
            "name": "sql",
            "version": ""
        },
        "extensions": {
            "azuredatastudio": {
                "version": 1,
                "views": []
            }
        }
    },
    "nbformat_minor": 2,
    "nbformat": 4,
    "cells": [
        {
            "cell_type": "markdown",
            "source": [
                "# SQL Part 1 Exercises\n",
                "\n",
                "## The Goodbooks-10k dataset\n",
                "\n",
                "- The dataset can be found here: [goodbooks-10k](https://www.kaggle.com/zygmunt/goodbooks-10k)\n",
                "- You can access the **BooksDB** in the Launchcode server.\n",
                "\n",
                "### Getting Started\n",
                "\n",
                "- This dataset has 5 tables. We are going to use the exercises to explore each table and practice SQL syntax.\n",
                "- We will be covering the following commands with our tables:\n",
                "    - **SELECT**, **FROM**, **\\***, **TOP**, **LIKE**, **%** (the wildcard), **IN**, **BETWEEN**, **ORDER BY**, **AS**, **ASC,** **DESC**, **DISTINCT**, **LIMIT**, **WHERE**, **GROUP BY**, Aggregation, and Arithmetic Operators"
            ],
            "metadata": {
                "azdata_cell_guid": "b9034d8a-b631-48bf-a895-1012a6ffa784"
            },
            "attachments": {}
        },
        {
            "cell_type": "markdown",
            "source": [
                "### EDA of my data\n",
                "\n",
                "- Looking at the top ~100 values of each table to explore column names, data types, etc\n",
                "    - shrunk down my tops/\\* to 2 rows for length of this notebook.\n",
                "- Used this article: https://blog.hubspot.com/marketing/sql-tutorial-introduction"
            ],
            "metadata": {
                "azdata_cell_guid": "d8934ea2-20ad-4a7a-a8c0-a1364579a769"
            },
            "attachments": {}
        },
        {
            "cell_type": "markdown",
            "source": [
                "# A. The **Books Table**\n",
                "\n",
                "### Column Context\n",
                "\n",
                "- **id** = instance of a book (ie: the top 10k books in some order)\n",
                "- **book\\_id** = the instance of the book in the Goodreads database\n",
                "    - [https://www.goodreads.com/book/show/3.Harry\\_Potter\\_and\\_the\\_Sorcerer\\_s\\_Stone](https://www.goodreads.com/book/show/3.Harry_Potter_and_the_Sorcerer_s_Stone)\n",
                "- **best\\_book\\_id** = is the most popular edition for a given work. Generally, it's the same as **goodreads\\_book\\_id** but differs occasionally\n",
                "    - [https://www.goodreads.com/book/show/3.Harry\\_Potter\\_and\\_the\\_Sorcerer\\_s\\_Stone](https://www.goodreads.com/book/show/3.Harry_Potter_and_the_Sorcerer_s_Stone)\n",
                "- **work\\_id** =  [Work IDs](https://help.goodreads.com/s/article/What-s-a-Work-ID-and-where-can-I-find-it) are unique identification numbers that represent books in the Goodreads catalog.  Work view holds collections of quotes collected by users for this edition/version.\n",
                "    - [https://www.goodreads.com/work/quotes/4640799-harry-potter-and-the-philosopher-s-stone](https://www.goodreads.com/work/quotes/4640799-harry-potter-and-the-philosopher-s-stone) \n",
                "- **books\\_count** = is the number of editions for a given work\n",
                "- **isbn** = International Standard Book Number, or a [book's unique identifier](https://en.wikipedia.org/wiki/International_Standard_Book_Number#How_ISBNs_are_issued)\n",
                "- **isbn13** = 13 digit long isbn issued after 2007.  The [GS1](https://en.wikipedia.org/wiki/GS1)  prefix currently is 978 or 979\n",
                "- **authors** = the first entry is who wrote the book, followed by illustrators, contributors, translators, etc\n",
                "- **original\\_publication\\_year** = when the book was first published\n",
                "- **originial\\_title** = the original title the book was given. This could be the title in the book's original language, the title of the book in a series, etc.\n",
                "- **title** = The title after translating and its location in a series, including the series name and the book's position in the series.\n",
                "- **language\\_code** = what language the book was in when this data was scraped\n",
                "- **average\\_rating** = On Goodreads, this average is [calculated](https://help.goodreads.com/s/article/As-an-author-how-is-the-average-rating-of-my-books-calculated#:~:text=On%20Goodreads%2C%20this%20average%20is,the%20total%20number%20of%20ratings.) as the sum of all of the author's book ratings divided by the total number of ratings.\n",
                "- **ratings\\_count** = total number of ratings\n",
                "- **work\\_ratings** = likes for each quote? or likes for this edition??\n",
                "- **work\\_text\\_reviews\\_count** = number of text reviews for each book.\n",
                "- **ratings\\_1** = number of 1 star reviews\n",
                "- **ratings\\_2** = number of 2 star reviews\n",
                "- **ratings\\_3** = number of 3 star reviews\n",
                "- **ratings\\_4** = number of 4 star reviews\n",
                "- **ratings\\_5** = number of 5 star reviews\n",
                "- **image\\_url** = cover image\n",
                "- **small\\_image\\_url** = thumbnail image of cover"
            ],
            "metadata": {
                "azdata_cell_guid": "6e55eb1c-4a14-4076-90d2-95ed17a6309f"
            },
            "attachments": {}
        },
        {
            "cell_type": "markdown",
            "source": [
                "QUESTION 1: Select the [top 1000 rows](https://www.w3schools.com/sql/sql\\_top.asp) from the books table.  Make sure you are able to see all of the columns."
            ],
            "metadata": {
                "azdata_cell_guid": "766bdbf5-9b53-45b8-8306-c5a1e5205b1d"
            },
            "attachments": {}
        },
        {
            "cell_type": "code",
            "source": [
                "-- SOLUTION\n",
                "\n",
                "SELECT TOP 5 * FROM BooksDB.dbo.books"
            ],
            "metadata": {
                "azdata_cell_guid": "3210add6-db07-494f-8b52-66aaf5f20f71",
                "tags": []
            },
            "outputs": [
                {
                    "output_type": "display_data",
                    "data": {
                        "text/html": "(5 rows affected)"
                    },
                    "metadata": {}
                },
                {
                    "output_type": "display_data",
                    "data": {
                        "text/html": "Total execution time: 00:00:00.056"
                    },
                    "metadata": {}
                },
                {
                    "output_type": "execute_result",
                    "execution_count": 46,
                    "data": {
                        "application/vnd.dataresource+json": {
                            "schema": {
                                "fields": [
                                    {
                                        "name": "id"
                                    },
                                    {
                                        "name": "book_id"
                                    },
                                    {
                                        "name": "best_book_id"
                                    },
                                    {
                                        "name": "work_id"
                                    },
                                    {
                                        "name": "books_count"
                                    },
                                    {
                                        "name": "isbn"
                                    },
                                    {
                                        "name": "isbn13"
                                    },
                                    {
                                        "name": "authors"
                                    },
                                    {
                                        "name": "original_publication_year"
                                    },
                                    {
                                        "name": "original_title"
                                    },
                                    {
                                        "name": "title"
                                    },
                                    {
                                        "name": "language_code"
                                    },
                                    {
                                        "name": "average_rating"
                                    },
                                    {
                                        "name": "ratings_count"
                                    },
                                    {
                                        "name": "work_ratings_count"
                                    },
                                    {
                                        "name": "work_text_reviews_count"
                                    },
                                    {
                                        "name": "ratings_1"
                                    },
                                    {
                                        "name": "ratings_2"
                                    },
                                    {
                                        "name": "ratings_3"
                                    },
                                    {
                                        "name": "ratings_4"
                                    },
                                    {
                                        "name": "ratings_5"
                                    },
                                    {
                                        "name": "image_url"
                                    },
                                    {
                                        "name": "small_image_url"
                                    }
                                ]
                            },
                            "data": [
                                {
                                    "0": "1",
                                    "1": "2767052",
                                    "2": "2767052",
                                    "3": "2792775",
                                    "4": "272",
                                    "5": "439023483",
                                    "6": "9780439023480",
                                    "7": "Suzanne Collins",
                                    "8": "2008",
                                    "9": "The Hunger Games",
                                    "10": "The Hunger Games (The Hunger Games, #1)",
                                    "11": "eng",
                                    "12": "4.34",
                                    "13": "4780653",
                                    "14": "4942365",
                                    "15": "155254",
                                    "16": "66715",
                                    "17": "127936",
                                    "18": "560092",
                                    "19": "1481305",
                                    "20": "2706317",
                                    "21": "https://images.gr-assets.com/books/1447303603m/2767052.jpg",
                                    "22": "https://images.gr-assets.com/books/1447303603s/2767052.jpg"
                                },
                                {
                                    "0": "2",
                                    "1": "3",
                                    "2": "3",
                                    "3": "4640799",
                                    "4": "491",
                                    "5": "439554934",
                                    "6": "9780439554930",
                                    "7": "J.K. Rowling, Mary GrandPré",
                                    "8": "1997",
                                    "9": "Harry Potter and the Philosopher's Stone",
                                    "10": "Harry Potter and the Sorcerer's Stone (Harry Potter, #1)",
                                    "11": "eng",
                                    "12": "4.44",
                                    "13": "4602479",
                                    "14": "4800065",
                                    "15": "75867",
                                    "16": "75504",
                                    "17": "101676",
                                    "18": "455024",
                                    "19": "1156318",
                                    "20": "3011543",
                                    "21": "https://images.gr-assets.com/books/1474154022m/3.jpg",
                                    "22": "https://images.gr-assets.com/books/1474154022s/3.jpg"
                                },
                                {
                                    "0": "3",
                                    "1": "41865",
                                    "2": "41865",
                                    "3": "3212258",
                                    "4": "226",
                                    "5": "316015849",
                                    "6": "9780316015840",
                                    "7": "Stephenie Meyer",
                                    "8": "2005",
                                    "9": "Twilight",
                                    "10": "Twilight (Twilight, #1)",
                                    "11": "en-US",
                                    "12": "3.57",
                                    "13": "3866839",
                                    "14": "3916824",
                                    "15": "95009",
                                    "16": "456191",
                                    "17": "436802",
                                    "18": "793319",
                                    "19": "875073",
                                    "20": "1355439",
                                    "21": "https://images.gr-assets.com/books/1361039443m/41865.jpg",
                                    "22": "https://images.gr-assets.com/books/1361039443s/41865.jpg"
                                },
                                {
                                    "0": "4",
                                    "1": "2657",
                                    "2": "2657",
                                    "3": "3275794",
                                    "4": "487",
                                    "5": "61120081",
                                    "6": "9780061120080",
                                    "7": "Harper Lee",
                                    "8": "1960",
                                    "9": "To Kill a Mockingbird",
                                    "10": "To Kill a Mockingbird",
                                    "11": "eng",
                                    "12": "4.25",
                                    "13": "3198671",
                                    "14": "3340896",
                                    "15": "72586",
                                    "16": "60427",
                                    "17": "117415",
                                    "18": "446835",
                                    "19": "1001952",
                                    "20": "1714267",
                                    "21": "https://images.gr-assets.com/books/1361975680m/2657.jpg",
                                    "22": "https://images.gr-assets.com/books/1361975680s/2657.jpg"
                                },
                                {
                                    "0": "5",
                                    "1": "4671",
                                    "2": "4671",
                                    "3": "245494",
                                    "4": "1356",
                                    "5": "743273567",
                                    "6": "9780743273560",
                                    "7": "F. Scott Fitzgerald",
                                    "8": "1925",
                                    "9": "The Great Gatsby",
                                    "10": "The Great Gatsby",
                                    "11": "eng",
                                    "12": "3.89",
                                    "13": "2683664",
                                    "14": "2773745",
                                    "15": "51992",
                                    "16": "86236",
                                    "17": "197621",
                                    "18": "606158",
                                    "19": "936012",
                                    "20": "947718",
                                    "21": "https://images.gr-assets.com/books/1490528560m/4671.jpg",
                                    "22": "https://images.gr-assets.com/books/1490528560s/4671.jpg"
                                }
                            ]
                        },
                        "text/html": "<table><tr><th>id</th><th>book_id</th><th>best_book_id</th><th>work_id</th><th>books_count</th><th>isbn</th><th>isbn13</th><th>authors</th><th>original_publication_year</th><th>original_title</th><th>title</th><th>language_code</th><th>average_rating</th><th>ratings_count</th><th>work_ratings_count</th><th>work_text_reviews_count</th><th>ratings_1</th><th>ratings_2</th><th>ratings_3</th><th>ratings_4</th><th>ratings_5</th><th>image_url</th><th>small_image_url</th></tr><tr><td>1</td><td>2767052</td><td>2767052</td><td>2792775</td><td>272</td><td>439023483</td><td>9780439023480</td><td>Suzanne Collins</td><td>2008</td><td>The Hunger Games</td><td>The Hunger Games (The Hunger Games, #1)</td><td>eng</td><td>4.34</td><td>4780653</td><td>4942365</td><td>155254</td><td>66715</td><td>127936</td><td>560092</td><td>1481305</td><td>2706317</td><td>https://images.gr-assets.com/books/1447303603m/2767052.jpg</td><td>https://images.gr-assets.com/books/1447303603s/2767052.jpg</td></tr><tr><td>2</td><td>3</td><td>3</td><td>4640799</td><td>491</td><td>439554934</td><td>9780439554930</td><td>J.K. Rowling, Mary GrandPré</td><td>1997</td><td>Harry Potter and the Philosopher's Stone</td><td>Harry Potter and the Sorcerer's Stone (Harry Potter, #1)</td><td>eng</td><td>4.44</td><td>4602479</td><td>4800065</td><td>75867</td><td>75504</td><td>101676</td><td>455024</td><td>1156318</td><td>3011543</td><td>https://images.gr-assets.com/books/1474154022m/3.jpg</td><td>https://images.gr-assets.com/books/1474154022s/3.jpg</td></tr><tr><td>3</td><td>41865</td><td>41865</td><td>3212258</td><td>226</td><td>316015849</td><td>9780316015840</td><td>Stephenie Meyer</td><td>2005</td><td>Twilight</td><td>Twilight (Twilight, #1)</td><td>en-US</td><td>3.57</td><td>3866839</td><td>3916824</td><td>95009</td><td>456191</td><td>436802</td><td>793319</td><td>875073</td><td>1355439</td><td>https://images.gr-assets.com/books/1361039443m/41865.jpg</td><td>https://images.gr-assets.com/books/1361039443s/41865.jpg</td></tr><tr><td>4</td><td>2657</td><td>2657</td><td>3275794</td><td>487</td><td>61120081</td><td>9780061120080</td><td>Harper Lee</td><td>1960</td><td>To Kill a Mockingbird</td><td>To Kill a Mockingbird</td><td>eng</td><td>4.25</td><td>3198671</td><td>3340896</td><td>72586</td><td>60427</td><td>117415</td><td>446835</td><td>1001952</td><td>1714267</td><td>https://images.gr-assets.com/books/1361975680m/2657.jpg</td><td>https://images.gr-assets.com/books/1361975680s/2657.jpg</td></tr><tr><td>5</td><td>4671</td><td>4671</td><td>245494</td><td>1356</td><td>743273567</td><td>9780743273560</td><td>F. Scott Fitzgerald</td><td>1925</td><td>The Great Gatsby</td><td>The Great Gatsby</td><td>eng</td><td>3.89</td><td>2683664</td><td>2773745</td><td>51992</td><td>86236</td><td>197621</td><td>606158</td><td>936012</td><td>947718</td><td>https://images.gr-assets.com/books/1490528560m/4671.jpg</td><td>https://images.gr-assets.com/books/1490528560s/4671.jpg</td></tr></table>"
                    },
                    "metadata": {}
                }
            ],
            "execution_count": 46
        },
        {
            "cell_type": "markdown",
            "source": [
                "QUESTION 2: Count the number of titles.  Are there 10,000 titles as promised by the dataset?"
            ],
            "metadata": {
                "azdata_cell_guid": "d220c097-e9cf-4edd-9abe-312d071217b7"
            },
            "attachments": {}
        },
        {
            "cell_type": "code",
            "source": [
                "-- SOLUTION\n",
                "-- SELECT COUNT(title)\n",
                "    -- FROM BooksDB.dbo.books"
            ],
            "metadata": {
                "azdata_cell_guid": "470b0ca4-9a32-4b46-a42e-bbb645101769",
                "tags": []
            },
            "outputs": [
                {
                    "output_type": "display_data",
                    "data": {
                        "text/html": "Commands completed successfully."
                    },
                    "metadata": {}
                },
                {
                    "output_type": "display_data",
                    "data": {
                        "text/html": "Total execution time: 00:00:00.048"
                    },
                    "metadata": {}
                }
            ],
            "execution_count": 57
        },
        {
            "cell_type": "markdown",
            "source": [
                "QUESTION 3: Count the number of books where the original\\_publication\\_year is earlier than 1800."
            ],
            "metadata": {
                "azdata_cell_guid": "d3ff6625-6752-4cfe-988f-5b5ada35c311"
            },
            "attachments": {}
        },
        {
            "cell_type": "code",
            "source": [
                "-- SOLUTION\n",
                "-- SELECT COUNT(*)\n",
                "    -- FROM BooksDB.dbo.books\n",
                "    -- WHERE original_publication_year < 1800"
            ],
            "metadata": {
                "azdata_cell_guid": "fa19b188-8b73-480e-9eef-5e277bc8c0c2"
            },
            "outputs": [
                {
                    "output_type": "display_data",
                    "data": {
                        "text/html": "Commands completed successfully."
                    },
                    "metadata": {}
                },
                {
                    "output_type": "display_data",
                    "data": {
                        "text/html": "Total execution time: 00:00:00.051"
                    },
                    "metadata": {}
                }
            ],
            "execution_count": 56
        },
        {
            "cell_type": "markdown",
            "source": [
                "QUESTION 4: Create a query that displays distinct authors from the table."
            ],
            "metadata": {
                "azdata_cell_guid": "20d9ae62-2db9-458b-8ab5-7931bab147b9"
            },
            "attachments": {}
        },
        {
            "cell_type": "code",
            "source": [
                "-- SOLUTION\n",
                "-- SELECT DISTINCT (authors)\n",
                "-- FROM BooksDB.dbo.books\n",
                ""
            ],
            "metadata": {
                "azdata_cell_guid": "a014772c-c1fa-4d2e-8590-4452de6b3fbd"
            },
            "outputs": [
                {
                    "output_type": "display_data",
                    "data": {
                        "text/html": "Commands completed successfully."
                    },
                    "metadata": {}
                },
                {
                    "output_type": "display_data",
                    "data": {
                        "text/html": "Total execution time: 00:00:00.049"
                    },
                    "metadata": {}
                }
            ],
            "execution_count": 36
        },
        {
            "cell_type": "markdown",
            "source": [
                "QUESTION 5: Create a query that displays a count of all the books that contain a language code for English.  This could be represented in the table as \"eng\" or \"en-\"."
            ],
            "metadata": {
                "azdata_cell_guid": "aa53707c-7489-4fa4-b72f-eabe6f02596a"
            },
            "attachments": {}
        },
        {
            "cell_type": "code",
            "source": [
                "-- Solution\n",
                "\n",
                "-- SELECT COUNT(*)\n",
                "   -- FROM BooksDB.dbo.books\n",
                "   -- WHERE language_code LIKE 'en%';\n",
                "\n",
                "-- rows: 8730"
            ],
            "metadata": {
                "azdata_cell_guid": "1ad1e38a-485c-4b1f-bf19-36b893324a2d",
                "tags": []
            },
            "outputs": [
                {
                    "output_type": "display_data",
                    "data": {
                        "text/html": "Commands completed successfully."
                    },
                    "metadata": {}
                },
                {
                    "output_type": "display_data",
                    "data": {
                        "text/html": "Total execution time: 00:00:00.052"
                    },
                    "metadata": {}
                }
            ],
            "execution_count": 55
        },
        {
            "cell_type": "markdown",
            "source": [
                "QUESTION 6: Create a query to check how many original titles were written during World War I era (1914-1921)."
            ],
            "metadata": {
                "azdata_cell_guid": "27b6d88f-4ce2-492f-9b42-7b0c543eba40"
            },
            "attachments": {}
        },
        {
            "cell_type": "code",
            "source": [
                "-- Solution\n",
                "-- --SELECT original_title\n",
                "    -- FROM BooksDB.dbo.books\n",
                "    -- WHERE original_publication_year BETWEEN 1914 AND 1921;\n",
                "    -- WHERE original_publication_year IN(1914,1915,1916,1917,1918,1919,1920,1921);\n",
                "\n",
                "-- 39 rows"
            ],
            "metadata": {
                "azdata_cell_guid": "83177ce2-b50d-4056-96f6-02b9b11e608d",
                "tags": []
            },
            "outputs": [
                {
                    "output_type": "display_data",
                    "data": {
                        "text/html": "Commands completed successfully."
                    },
                    "metadata": {}
                },
                {
                    "output_type": "display_data",
                    "data": {
                        "text/html": "Total execution time: 00:00:00.048"
                    },
                    "metadata": {}
                }
            ],
            "execution_count": 58
        },
        {
            "cell_type": "markdown",
            "source": [
                "# B. The **Book Tags Table**\n",
                "\n",
                "### Column Context\n",
                "\n",
                "- **goodreads_book_id** = the id of the book\n",
                "- **tag_id** = matches to a specific tag that cn be found in the *tags* table.\n",
                "- **count** = the number of times this tag was used for this book. "
            ],
            "metadata": {
                "azdata_cell_guid": "3eaf376d-9de3-4553-a9d0-9caf74ee3d6a"
            },
            "attachments": {}
        },
        {
            "cell_type": "markdown",
            "source": [
                "QUESTION 1: SELECT the TOP 1000 table items ordered by the *tag_id*"
            ],
            "metadata": {
                "azdata_cell_guid": "e3e010f9-f13a-400b-a424-5374ecab1065"
            },
            "attachments": {}
        },
        {
            "cell_type": "code",
            "source": [
                "-- Solution\n",
                "\n",
                "-- SELECT TOP 10 * \n",
                "    -- FROM BooksDB.dbo.book_tags\n",
                "    -- ORDER BY tag_id;"
            ],
            "metadata": {
                "azdata_cell_guid": "7b5a0b83-6942-4a41-a224-ac6e14668a72",
                "tags": []
            },
            "outputs": [
                {
                    "output_type": "display_data",
                    "data": {
                        "text/html": "Commands completed successfully."
                    },
                    "metadata": {}
                },
                {
                    "output_type": "display_data",
                    "data": {
                        "text/html": "Total execution time: 00:00:00.049"
                    },
                    "metadata": {}
                }
            ],
            "execution_count": 60
        },
        {
            "cell_type": "markdown",
            "source": [
                "QUESTION 2: Create a query that counts the number of *goodreads_book_id* grouped by the *tag_id*."
            ],
            "metadata": {
                "azdata_cell_guid": "a21eee27-6694-4ffc-a16b-ae266a85b0aa"
            }
        },
        {
            "cell_type": "code",
            "source": [
                "--Solution\n",
                "\n",
                "-- SELECT COUNT(goodreads_book_id) \n",
                "-- FROM BooksDB.dbo.book_tags\n",
                "  --  GROUP BY tag_id"
            ],
            "metadata": {
                "azdata_cell_guid": "e2882ce6-2bca-4e9a-86c9-690c475afb6c"
            },
            "outputs": [
                {
                    "output_type": "display_data",
                    "data": {
                        "text/html": "Commands completed successfully."
                    },
                    "metadata": {}
                },
                {
                    "output_type": "display_data",
                    "data": {
                        "text/html": "Total execution time: 00:00:00.049"
                    },
                    "metadata": {}
                }
            ],
            "execution_count": 43
        },
        {
            "cell_type": "markdown",
            "source": [
                "QUESTION 3: In the last query, we created a new, unnamed column.  Using **AS** create an alias to provide a name of your choice to this new column."
            ],
            "metadata": {
                "azdata_cell_guid": "8480fd60-7e80-4c17-9f5b-c08a6b06ed83"
            },
            "attachments": {}
        },
        {
            "cell_type": "code",
            "source": [
                "-- Solution\n",
                "\n",
                "-- SELECT COUNT(goodreads_book_id) AS \"Tag Counts\"\n",
                "   -- FROM BooksDB.dbo.book_tags\n",
                "   -- GROUP BY tag_id"
            ],
            "metadata": {
                "azdata_cell_guid": "7d8119b9-fa3e-49f2-ac7d-aa9be46771c6"
            },
            "outputs": [
                {
                    "output_type": "display_data",
                    "data": {
                        "text/html": "Commands completed successfully."
                    },
                    "metadata": {}
                },
                {
                    "output_type": "display_data",
                    "data": {
                        "text/html": "Total execution time: 00:00:00.049"
                    },
                    "metadata": {}
                }
            ],
            "execution_count": 59
        },
        {
            "cell_type": "markdown",
            "source": [
                "# C. The **Ratings Table**\n",
                "\n",
                "### Column Context\n",
                "\n",
                "- **book_id** = the idenifier of the book\n",
                "- **user_id** = the identifier of the user who gave a rating\n",
                "- **rating** = the rating given by the user to the book"
            ],
            "metadata": {
                "azdata_cell_guid": "1ba1363a-4f02-4962-a95a-93b80c5926b1"
            }
        },
        {
            "cell_type": "markdown",
            "source": [
                "QUESTION 1: Create a query that displays the top 1000 items in the table in descending order."
            ],
            "metadata": {
                "azdata_cell_guid": "bbe07263-5f3e-44f2-b424-9e1899034cac"
            },
            "attachments": {}
        },
        {
            "cell_type": "code",
            "source": [
                "-- Solution\n",
                "-- SELECT TOP 1000 *\n",
                "  -- FROM BooksDB.dbo.ratings\n",
                "  -- ORDER BY rating DESC;"
            ],
            "metadata": {
                "azdata_cell_guid": "f08cd55a-b073-4baf-a983-9916111a77e2"
            },
            "outputs": [
                {
                    "output_type": "display_data",
                    "data": {
                        "text/html": "Commands completed successfully."
                    },
                    "metadata": {}
                },
                {
                    "output_type": "display_data",
                    "data": {
                        "text/html": "Total execution time: 00:00:00.050"
                    },
                    "metadata": {}
                }
            ],
            "execution_count": 69
        },
        {
            "cell_type": "markdown",
            "source": [
                "QUESTION 2: Create a query that returns the total number of users that have given a rating of less than 2."
            ],
            "metadata": {
                "azdata_cell_guid": "68291b2c-bbe7-4ae4-83f0-69602a80f193"
            },
            "attachments": {}
        },
        {
            "cell_type": "code",
            "source": [
                "-- Solution\n",
                "\n",
                " -- SELECT COUNT(user_id)\n",
                "   -- FROM BooksDB.dbo.ratings\n",
                "    -- WHERE rating < 2;\n",
                "    -- 19575"
            ],
            "metadata": {
                "azdata_cell_guid": "d8655800-30a4-42ec-a77b-e5ea1ce71160",
                "tags": []
            },
            "outputs": [
                {
                    "output_type": "display_data",
                    "data": {
                        "text/html": "Commands completed successfully."
                    },
                    "metadata": {}
                },
                {
                    "output_type": "display_data",
                    "data": {
                        "text/html": "Total execution time: 00:00:00.048"
                    },
                    "metadata": {}
                }
            ],
            "execution_count": 77
        },
        {
            "cell_type": "markdown",
            "source": [
                "QUESTION 3: Create a query that returns the sum of books that have a rating of 4 or higher."
            ],
            "metadata": {
                "azdata_cell_guid": "2a79805b-4b83-4b90-a74d-0dbdcb2c2e63"
            },
            "attachments": {}
        },
        {
            "cell_type": "code",
            "source": [
                "-- Solution\n",
                "\n",
                "-- SELECT SUM(rating)\n",
                "   -- FROM BooksDB.dbo.ratings\n",
                "   -- WHERE rating >= 4;\n",
                "\n",
                "-- 2894269"
            ],
            "metadata": {
                "azdata_cell_guid": "4c87ad35-caa6-43c2-b86d-dd32076294df",
                "tags": []
            },
            "outputs": [
                {
                    "output_type": "display_data",
                    "data": {
                        "text/html": "Commands completed successfully."
                    },
                    "metadata": {}
                },
                {
                    "output_type": "display_data",
                    "data": {
                        "text/html": "Total execution time: 00:00:00.050"
                    },
                    "metadata": {}
                }
            ],
            "execution_count": 78
        },
        {
            "cell_type": "markdown",
            "source": [
                "# D. The **Tags Table**\n",
                "\n",
                "### Column Context\n",
                "\n",
                "- **tag\\_id** = the identifier of the specific tag \n",
                "- **tag\\_name** = a tag created by users when creating reviews"
            ],
            "metadata": {
                "azdata_cell_guid": "8e5b1010-5e77-412f-8993-f643878c7362"
            },
            "attachments": {}
        },
        {
            "cell_type": "markdown",
            "source": [
                "QUESTION 1: Create a query that returns table items where the _tag\\_name_ describes the book as a mystery.\n",
                "\n",
                "Hint: Use the wildcard to find the word mystery at the beginning, middle, and end of a _tag\\_name_"
            ],
            "metadata": {
                "azdata_cell_guid": "a14e2911-3c58-485a-8f1a-50601b3923f8"
            },
            "attachments": {}
        },
        {
            "cell_type": "code",
            "source": [
                "-- Solution\n",
                "-- SELECT TOP 1000 * \n",
                "   -- FROM BooksDB.dbo.tags\n",
                "   -- WHERE tag_name LIKE '%mystery' OR tag_name LIKE 'mystery%' OR tag_name LIKE '%mystery%'\n",
                "    \n",
                "    --172\n",
                "    "
            ],
            "metadata": {
                "azdata_cell_guid": "6d343418-1a36-4055-9261-08843c9a1793",
                "tags": []
            },
            "outputs": [
                {
                    "output_type": "display_data",
                    "data": {
                        "text/html": "Commands completed successfully."
                    },
                    "metadata": {}
                },
                {
                    "output_type": "display_data",
                    "data": {
                        "text/html": "Total execution time: 00:00:00.053"
                    },
                    "metadata": {}
                }
            ],
            "execution_count": 90
        },
        {
            "cell_type": "markdown",
            "source": [
                "QUESTION 2: Run the query below.  In your own words, what is it returning?"
            ],
            "metadata": {
                "azdata_cell_guid": "731473a8-06d3-4b7e-91ad-c9cc8883b864"
            },
            "attachments": {}
        },
        {
            "cell_type": "code",
            "source": [
                "-- SELECT * \n",
                "    -- FROM BooksDB.dbo.tags\n",
                "    -- WHERE tag_name < 'd' AND tag_name >= 'c';"
            ],
            "metadata": {
                "azdata_cell_guid": "5543e056-84c7-40b2-9f98-903b8bfa2a73"
            },
            "outputs": [],
            "execution_count": null
        },
        {
            "cell_type": "markdown",
            "source": [
                "YOUR ANSWER:"
            ],
            "metadata": {
                "azdata_cell_guid": "12729d8f-4ce4-45b1-8b55-f25a498064d9"
            },
            "attachments": {}
        },
        {
            "cell_type": "markdown",
            "source": [
                "# The **To Read** Table"
            ],
            "metadata": {
                "azdata_cell_guid": "4c91620e-c067-4ead-a983-da32f52e8ff7"
            }
        },
        {
            "cell_type": "markdown",
            "source": [
                "QUESTION 1:  Create a query that uses the user\\_id to count the total number of books that each user wants to read.  Print the results in ascending order by user\\_id under the alias 'Total Books To Read'\n",
                "\n",
                "_Hint: You can use both GROUP BY and ORDER BY to complete this query._"
            ],
            "metadata": {
                "azdata_cell_guid": "cf69c5f4-f75b-490a-8ef7-ae524374b03d"
            },
            "attachments": {}
        },
        {
            "cell_type": "code",
            "source": [
                "-- Code Here:\n",
                ""
            ],
            "metadata": {
                "azdata_cell_guid": "25f8b89f-0a93-4cba-90d9-42f6b1cb1bf8"
            },
            "outputs": [],
            "execution_count": null
        },
        {
            "cell_type": "markdown",
            "source": [
                "QUESTION 2: Create a query that uses user\\_id to count the total number of books each user wants to read.  Have the results sort the table by the total number of book\\_ids in descending order and under the alias 'Total Books To Read'.\n",
                "\n",
                "_Hint: You can use both GROUP BY and ORDER BY to complete this query._"
            ],
            "metadata": {
                "azdata_cell_guid": "a0f56064-89d6-4ab3-aef4-693d831319a6"
            },
            "attachments": {}
        },
        {
            "cell_type": "code",
            "source": [
                "-- Code Here:\n",
                ""
            ],
            "metadata": {
                "azdata_cell_guid": "1bc33f3b-de96-411d-aabf-f0dd01c8a92e"
            },
            "outputs": [],
            "execution_count": null
        }
    ]
}